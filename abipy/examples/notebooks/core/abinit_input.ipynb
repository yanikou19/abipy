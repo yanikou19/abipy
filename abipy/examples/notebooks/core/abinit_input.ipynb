{
 "worksheets": [
  {
   "cells": [
    {
     "cell_type": "markdown",
     "metadata": {},
     "source": [
      "Back to the main [Index](../index.ipynb)"
     ]
    },
    {
     "cell_type": "heading",
     "metadata": {},
     "level": 1,
     "source": [
      "Creating an `AbinitInput` object"
     ]
    },
    {
     "cell_type": "markdown",
     "metadata": {},
     "source": [
      "The creation of the Abinit input file is one of the most repetive and error-prone operations we have to do before running our calculations.\n",
      "To facilitate the creation of the input file, one can use `AbinitInput`, a dict-like object \n",
      "that stores the Abinit variables and provides helper functions to automate the specification \n",
      "of multiple parameters\n",
      "\n",
      "The code below shows how to create an `AbiniInput` and how to define the parameters of the calculation."
     ]
    },
    {
     "cell_type": "code",
     "execution_count": null,
     "metadata": {},
     "outputs": [
      {
       "output_type": "stream",
       "stream": "stdout",
       "text": [
        "############################################################################################\n",
        "#                                         STRUCTURE                                         \n",
        "############################################################################################\n",
        " acell    1.0    1.0    1.0\n",
        " xred\n",
        "    0.0000000000    0.0000000000    0.0000000000\n",
        "    0.2500000000    0.2500000000    0.2500000000\n",
        " rprim\n",
        "   -6.3285005555    0.0000000000   -3.6537614993\n",
        "   -6.3285005555    0.0000000000    3.6537614993\n",
        "   -4.2190003704    5.9665675434    0.0000000000\n",
        " typat 1 1\n",
        " natom 2\n",
        " ntypat 1\n",
        " znucl 14\n",
        "\n",
        "\n",
        "#<JSON>\n",
        "#{\n",
        "#    \"pseudos\": [\n",
        "#        {\n",
        "#            \"l_max\": 2, \n",
        "#            \"Z_val\": 4.0, \n",
        "#            \"filepath\": \"/Users/gmatteo/Coding/git_branches/abipy/abipy/data/pseudos/14si.pspnc\", \n",
        "#            \"symbol\": \"Si\", \n",
        "#            \"Z\": 14, \n",
        "#            \"type\": \"NcAbinitPseudo\", \n",
        "#            \"basename\": \"14si.pspnc\", \n",
        "#            \"@class\": \"NcAbinitPseudo\", \n",
        "#            \"@module\": \"pymatgen.io.abinitio.pseudos\"\n",
        "#        }\n",
        "#    ]\n",
        "#}\n",
        "#</JSON>\n"
       ]
      }
     ],
     "input": [
      "from __future__ import division, print_function, unicode_literals\n",
      "\n",
      "import abipy.data as abidata\n",
      "import abipy.abilab as abilab\n",
      "from abipy.abilab import AbinitInput\n",
      "\n",
      "# To create an ABINIT input we must specify the paths of the pseudopotential files.\n",
      "# In this case, we have a pseudo named `14si.pspnc` located in the abidata.pseudo_dir directory.\n",
      "inp = AbinitInput(structure=abidata.cif_file(\"si.cif\"), \n",
      "                  pseudos=\"14si.pspnc\", pseudo_dir=abidata.pseudo_dir)\n",
      "\n",
      "# print will return a string with our input. In this case, the input is empty since \n",
      "# only the pseudos have been specified\n",
      "print(inp)"
     ],
     "language": "python",
     "prompt_number": 9
    },
    {
     "cell_type": "heading",
     "metadata": {},
     "level": 4,
     "source": [
      "The function `set_vars` allows one to set the value of multiple variable with a single call"
     ]
    },
    {
     "cell_type": "code",
     "execution_count": null,
     "metadata": {},
     "outputs": [
      {
       "output_type": "pyout",
       "prompt_number": 2,
       "text": [
        "{'ecut': 8, 'paral_kgb': 0}"
       ],
       "metadata": {}
      }
     ],
     "input": [
      "inp.set_vars(ecut=8, paral_kgb=0)"
     ],
     "language": "python",
     "prompt_number": 2
    },
    {
     "cell_type": "heading",
     "metadata": {},
     "level": 4,
     "source": [
      "`AbinitInput` is a dict-like object, hence one can test for the presence of a variable in the input:"
     ]
    },
    {
     "cell_type": "code",
     "execution_count": null,
     "metadata": {},
     "outputs": [
      {
       "output_type": "pyout",
       "prompt_number": 3,
       "text": [
        "True"
       ],
       "metadata": {}
      }
     ],
     "input": [
      "\"ecut\" in inp"
     ],
     "language": "python",
     "prompt_number": 3
    },
    {
     "cell_type": "heading",
     "metadata": {},
     "level": 4,
     "source": [
      "List all the variables that have been defined:"
     ]
    },
    {
     "cell_type": "code",
     "execution_count": null,
     "metadata": {},
     "outputs": [
      {
       "output_type": "pyout",
       "prompt_number": 4,
       "text": [
        "['ecut', 'paral_kgb']"
       ],
       "metadata": {}
      }
     ],
     "input": [
      "list(inp.keys())"
     ],
     "language": "python",
     "prompt_number": 4
    },
    {
     "cell_type": "markdown",
     "metadata": {},
     "source": [
      "Access the value of a particular variable with the syntax"
     ]
    },
    {
     "cell_type": "code",
     "execution_count": null,
     "metadata": {},
     "outputs": [
      {
       "output_type": "pyout",
       "prompt_number": 5,
       "text": [
        "8"
       ],
       "metadata": {}
      }
     ],
     "input": [
      "inp[\"ecut\"]"
     ],
     "language": "python",
     "prompt_number": 5
    },
    {
     "cell_type": "markdown",
     "metadata": {},
     "source": [
      "Iterate over keywords and values:"
     ]
    },
    {
     "cell_type": "code",
     "execution_count": null,
     "metadata": {},
     "outputs": [
      {
       "output_type": "stream",
       "stream": "stdout",
       "text": [
        "ecut --> 8\n",
        "paral_kgb --> 0\n"
       ]
      }
     ],
     "input": [
      "for varname, varvalue in inp.items(): \n",
      "    print(varname, \"-->\", varvalue)"
     ],
     "language": "python",
     "prompt_number": 6
    },
    {
     "cell_type": "markdown",
     "metadata": {},
     "source": [
      "Use lists, tuples or numpy arrays when abinit expects arrays"
     ]
    },
    {
     "cell_type": "code",
     "execution_count": null,
     "metadata": {},
     "outputs": [
      {
       "output_type": "stream",
       "stream": "stdout",
       "text": [
        "############################################################################################\n",
        "#                                      SECTION: varbas                                      \n",
        "############################################################################################\n",
        " ecut 8\n",
        " kptopt 1\n",
        " shiftk\n",
        "    0.0    0.0    0.0\n",
        "    0.5    0.5    0.5\n",
        " ngkpt 2 2 2\n",
        " nshiftk 2\n",
        "############################################################################################\n",
        "#                                      SECTION: vardev                                      \n",
        "############################################################################################\n",
        " istwfk *1\n",
        "############################################################################################\n",
        "#                                      SECTION: varpar                                      \n",
        "############################################################################################\n",
        " paral_kgb 0\n",
        "############################################################################################\n",
        "#                                         STRUCTURE                                         \n",
        "############################################################################################\n",
        " acell    1.0    1.0    1.0\n",
        " xred\n",
        "    0.0000000000    0.0000000000    0.0000000000\n",
        "    0.2500000000    0.2500000000    0.2500000000\n",
        " rprim\n",
        "   -6.3285005555    0.0000000000   -3.6537614993\n",
        "   -6.3285005555    0.0000000000    3.6537614993\n",
        "   -4.2190003704    5.9665675434    0.0000000000\n",
        " typat 1 1\n",
        " natom 2\n",
        " ntypat 1\n",
        " znucl 14\n",
        "\n",
        "\n",
        "#<JSON>\n",
        "#{\n",
        "#    \"pseudos\": [\n",
        "#        {\n",
        "#            \"l_max\": 2, \n",
        "#            \"Z_val\": 4.0, \n",
        "#            \"filepath\": \"/Users/gmatteo/Coding/git_branches/abipy/abipy/data/pseudos/14si.pspnc\", \n",
        "#            \"symbol\": \"Si\", \n",
        "#            \"Z\": 14, \n",
        "#            \"type\": \"NcAbinitPseudo\", \n",
        "#            \"basename\": \"14si.pspnc\", \n",
        "#            \"@class\": \"NcAbinitPseudo\", \n",
        "#            \"@module\": \"pymatgen.io.abinitio.pseudos\"\n",
        "#        }\n",
        "#    ]\n",
        "#}\n",
        "#</JSON>\n"
       ]
      }
     ],
     "input": [
      "inp.set_vars(kptopt=1, \n",
      "             ngkpt=[2, 2, 2], \n",
      "             nshiftk=2, \n",
      "             shiftk=[0.0, 0.0, 0.0, 0.5, 0.5, 0.5]  # 2 shifts in one list\n",
      "            )\n",
      "\n",
      "# It's possible to use strings but use them only for special cases such as:\n",
      "inp[\"istwfk\"] = \"*1\"\n",
      "print(inp)"
     ],
     "language": "python",
     "prompt_number": 7
    },
    {
     "cell_type": "markdown",
     "metadata": {},
     "source": [
      "If you mistype the name of the variable, `AbinitInput` raises an error:"
     ]
    },
    {
     "cell_type": "code",
     "execution_count": null,
     "metadata": {},
     "outputs": [
      {
       "ename": "AbinitInputError",
       "evalue": "perl is not a valid ABINIT variable.\nIf you are sure the name is correct, please contact the abipy developers\nor modify the JSON file abipy/abio/abinit_vars.json",
       "output_type": "pyerr",
       "traceback": [
        "\u001b[0;31m---------------------------------------------------------------------------\u001b[0m\n\u001b[0;31mAbinitInputError\u001b[0m                          Traceback (most recent call last)",
        "\u001b[0;32m<ipython-input-8-7e364d647596>\u001b[0m in \u001b[0;36m<module>\u001b[0;34m()\u001b[0m\n\u001b[0;32m----> 1\u001b[0;31m \u001b[0minp\u001b[0m\u001b[0;34m.\u001b[0m\u001b[0mset_vars\u001b[0m\u001b[0;34m(\u001b[0m\u001b[0mperl\u001b[0m\u001b[0;34m=\u001b[0m\u001b[0;36m0\u001b[0m\u001b[0;34m)\u001b[0m\u001b[0;34m\u001b[0m\u001b[0m\n\u001b[0m",
        "\u001b[0;32m/Users/gmatteo/Coding/git_branches/abipy/abipy/abio/inputs.pyc\u001b[0m in \u001b[0;36mset_vars\u001b[0;34m(self, *args, **kwargs)\u001b[0m\n\u001b[1;32m    113\u001b[0m         \u001b[0mkwargs\u001b[0m\u001b[0;34m.\u001b[0m\u001b[0mupdate\u001b[0m\u001b[0;34m(\u001b[0m\u001b[0mdict\u001b[0m\u001b[0;34m(\u001b[0m\u001b[0;34m*\u001b[0m\u001b[0margs\u001b[0m\u001b[0;34m)\u001b[0m\u001b[0;34m)\u001b[0m\u001b[0;34m\u001b[0m\u001b[0m\n\u001b[1;32m    114\u001b[0m         \u001b[0;32mfor\u001b[0m \u001b[0mvarname\u001b[0m\u001b[0;34m,\u001b[0m \u001b[0mvarvalue\u001b[0m \u001b[0;32min\u001b[0m \u001b[0mkwargs\u001b[0m\u001b[0;34m.\u001b[0m\u001b[0mitems\u001b[0m\u001b[0;34m(\u001b[0m\u001b[0;34m)\u001b[0m\u001b[0;34m:\u001b[0m\u001b[0;34m\u001b[0m\u001b[0m\n\u001b[0;32m--> 115\u001b[0;31m             \u001b[0mself\u001b[0m\u001b[0;34m[\u001b[0m\u001b[0mvarname\u001b[0m\u001b[0;34m]\u001b[0m \u001b[0;34m=\u001b[0m \u001b[0mvarvalue\u001b[0m\u001b[0;34m\u001b[0m\u001b[0m\n\u001b[0m\u001b[1;32m    116\u001b[0m         \u001b[0;32mreturn\u001b[0m \u001b[0mkwargs\u001b[0m\u001b[0;34m\u001b[0m\u001b[0m\n\u001b[1;32m    117\u001b[0m \u001b[0;34m\u001b[0m\u001b[0m\n",
        "\u001b[0;32m/Users/gmatteo/Coding/git_branches/abipy/abipy/abio/inputs.pyc\u001b[0m in \u001b[0;36m__setitem__\u001b[0;34m(self, key, value)\u001b[0m\n\u001b[1;32m     82\u001b[0m \u001b[0;34m\u001b[0m\u001b[0m\n\u001b[1;32m     83\u001b[0m     \u001b[0;32mdef\u001b[0m \u001b[0m__setitem__\u001b[0m\u001b[0;34m(\u001b[0m\u001b[0mself\u001b[0m\u001b[0;34m,\u001b[0m \u001b[0mkey\u001b[0m\u001b[0;34m,\u001b[0m \u001b[0mvalue\u001b[0m\u001b[0;34m)\u001b[0m\u001b[0;34m:\u001b[0m\u001b[0;34m\u001b[0m\u001b[0m\n\u001b[0;32m---> 84\u001b[0;31m         \u001b[0mself\u001b[0m\u001b[0;34m.\u001b[0m\u001b[0m_check_varname\u001b[0m\u001b[0;34m(\u001b[0m\u001b[0mkey\u001b[0m\u001b[0;34m)\u001b[0m\u001b[0;34m\u001b[0m\u001b[0m\n\u001b[0m\u001b[1;32m     85\u001b[0m         \u001b[0;32mreturn\u001b[0m \u001b[0mself\u001b[0m\u001b[0;34m.\u001b[0m\u001b[0mvars\u001b[0m\u001b[0;34m.\u001b[0m\u001b[0m__setitem__\u001b[0m\u001b[0;34m(\u001b[0m\u001b[0mkey\u001b[0m\u001b[0;34m,\u001b[0m \u001b[0mvalue\u001b[0m\u001b[0;34m)\u001b[0m\u001b[0;34m\u001b[0m\u001b[0m\n\u001b[1;32m     86\u001b[0m \u001b[0;34m\u001b[0m\u001b[0m\n",
        "\u001b[0;32m/Users/gmatteo/Coding/git_branches/abipy/abipy/abio/inputs.pyc\u001b[0m in \u001b[0;36m_check_varname\u001b[0;34m(self, key)\u001b[0m\n\u001b[1;32m    246\u001b[0m             raise self.Error(\"%s is not a valid ABINIT variable.\\n\"\n\u001b[1;32m    247\u001b[0m                              \u001b[0;34m\"If you are sure the name is correct, please contact the abipy developers\\n\"\u001b[0m\u001b[0;34m\u001b[0m\u001b[0m\n\u001b[0;32m--> 248\u001b[0;31m                              \"or modify the JSON file abipy/abio/abinit_vars.json\" % key)\n\u001b[0m\u001b[1;32m    249\u001b[0m \u001b[0;34m\u001b[0m\u001b[0m\n\u001b[1;32m    250\u001b[0m         \u001b[0;32mif\u001b[0m \u001b[0mkey\u001b[0m \u001b[0;32min\u001b[0m \u001b[0m_GEOVARS\u001b[0m\u001b[0;34m:\u001b[0m\u001b[0;34m\u001b[0m\u001b[0m\n",
        "\u001b[0;31mAbinitInputError\u001b[0m: perl is not a valid ABINIT variable.\nIf you are sure the name is correct, please contact the abipy developers\nor modify the JSON file abipy/abio/abinit_vars.json"
       ]
      }
     ],
     "input": [
      "inp.set_vars(perl=0)"
     ],
     "language": "python",
     "prompt_number": 8
    },
    {
     "cell_type": "heading",
     "metadata": {},
     "level": 1,
     "source": [
      "Defining the crystalline structure"
     ]
    },
    {
     "cell_type": "markdown",
     "metadata": {},
     "source": [
      "The `set_structure` method sets the value of the ABINIT variables:\n",
      "    \n",
      "   * acell\n",
      "   * rprim\n",
      "   * ntypat\n",
      "   * natom \n",
      "   * typat\n",
      "   * znucl\n",
      "   * xred\n",
      "    \n",
      "It is always a good idea to set the structure immediately after the creation of `AbinitInput`\n",
      "because several methods use this information to faciliate the specification of other variables \n",
      "For example, the `set_kpath` method use the structure to generate the $k$-path for band structure calculations.\n",
      "\n",
      "<div class=\"alert alert\">\n",
      "`typat` must be consistent with the list of pseudopotentials passed to `AbinitInput`\n",
      "</div>\n",
      "\n",
      "`set_structure` accepts either a dictionary with the ABINIT variables or an external file. "
     ]
    },
    {
     "cell_type": "heading",
     "metadata": {},
     "level": 3,
     "source": [
      "From dictionary:"
     ]
    },
    {
     "cell_type": "code",
     "execution_count": null,
     "metadata": {},
     "outputs": [],
     "input": [
      "structure = dict(\n",
      "    ntypat=1,         \n",
      "    natom=2,\n",
      "    typat=[1, 1],\n",
      "    znucl=14,\n",
      "    acell=3*[10.217],\n",
      "    rprim=[[0.0,  0.5,  0.5],   \n",
      "           [0.5,  0.0,  0.5],\n",
      "           [0.5,  0.5,  0.0]],\n",
      "    xred=[[0.0 , 0.0 , 0.0],\n",
      "          [0.25, 0.25, 0.25]]\n",
      ")\n",
      "\n",
      "inp = AbinitInput(structure, pseudos=abidata.pseudos(\"14si.pspnc\"))"
     ],
     "language": "python",
     "prompt_number": 10
    },
    {
     "cell_type": "heading",
     "metadata": {},
     "level": 3,
     "source": [
      "From file"
     ]
    },
    {
     "cell_type": "code",
     "execution_count": null,
     "metadata": {},
     "outputs": [
      {
       "output_type": "pyout",
       "prompt_number": 11,
       "text": [
        "Structure Summary\n",
        "Lattice\n",
        "    abc : 3.8669746178876538 3.8669746178925166 3.8669746178704845\n",
        " angles : 60.000000000188479 60.000000000146869 60.000000000400874\n",
        " volume : 40.888291726560226\n",
        "      A : 3.3488982548852873 0.0 1.9334873089352422\n",
        "      B : 1.1162994182774564 3.157371554056434 1.9334873089352422\n",
        "      C : 0.0 0.0 3.8669746178704845\n",
        "PeriodicSite: Si (0.0000, 0.0000, 0.0000) [0.0000, 0.0000, 0.0000]\n",
        "PeriodicSite: Si (1.1163, 0.7893, 1.9335) [0.2500, 0.2500, 0.2500]"
       ],
       "metadata": {}
      }
     ],
     "input": [
      "# from a CIF file\n",
      "inp.set_structure(abidata.cif_file(\"si.cif\"))\n",
      "\n",
      "# or from a Netcdf file produced by ABINIT\n",
      "inp.set_structure(abidata.ref_file(\"si_scf_GSR.nc\"))"
     ],
     "language": "python",
     "prompt_number": 11
    },
    {
     "cell_type": "markdown",
     "metadata": {},
     "source": [
      "Supported formats include:\n",
      "\n",
      "   * CIF\n",
      "   * POSCAR/CONTCAR\n",
      "   * CHGCAR \n",
      "   * LOCPOT,\n",
      "   * vasprun.xml\n",
      "   * CSSR \n",
      "   * ABINIT Netcdf \n",
      "   * pymatgen's JSON serialized structures"
     ]
    },
    {
     "cell_type": "heading",
     "metadata": {},
     "level": 2,
     "source": [
      "From the Materials Project database:"
     ]
    },
    {
     "cell_type": "code",
     "execution_count": null,
     "metadata": {},
     "outputs": [
      {
       "output_type": "pyout",
       "prompt_number": 12,
       "text": [
        "Structure Summary\n",
        "Lattice\n",
        "    abc : 3.8669746228495039 3.866974623775052 3.8669746200000001\n",
        " angles : 60.000000032293386 60.000000024375858 60.000000024168102\n",
        " volume : 40.888291888494884\n",
        "      A : 3.3488982599999999 0.0 1.9334873100000001\n",
        "      B : 1.11629942 3.1573715600000001 1.9334873100000001\n",
        "      C : 0.0 0.0 3.8669746200000001\n",
        "PeriodicSite: Si (3.9070, 2.7627, 6.7672) [0.8750, 0.8750, 0.8750]\n",
        "PeriodicSite: Si (0.5581, 0.3947, 0.9667) [0.1250, 0.1250, 0.1250]"
       ],
       "metadata": {}
      }
     ],
     "input": [
      "# https://www.materialsproject.org/materials/mp-149/\n",
      "inp.set_structure(abilab.Structure.from_material_id(\"mp-149\"))"
     ],
     "language": "python",
     "prompt_number": 12
    },
    {
     "cell_type": "markdown",
     "metadata": {},
     "source": [
      "Note that you can avoid the call to `set_structure` if the `structure` argument is passed to \n",
      "`AbiInput`:"
     ]
    },
    {
     "cell_type": "code",
     "execution_count": null,
     "metadata": {},
     "outputs": [
      {
       "output_type": "pyout",
       "prompt_number": 13,
       "text": [
        "<AbinitInput at 4532492752>"
       ],
       "metadata": {}
      }
     ],
     "input": [
      "AbinitInput(structure=abidata.cif_file(\"si.cif\"), pseudos=abidata.pseudos(\"14si.pspnc\"))"
     ],
     "language": "python",
     "prompt_number": 13
    },
    {
     "cell_type": "heading",
     "metadata": {},
     "level": 2,
     "source": [
      "Brillouin zone sampling"
     ]
    },
    {
     "cell_type": "markdown",
     "metadata": {},
     "source": [
      "There are two different types of sampling of the BZ: homogeneous and high-symmetry k-path.\n",
      "The later is mainly used for band structure calculations and requires the specification of: \n",
      "\n",
      "   * kptopt\n",
      "   * kptbounds\n",
      "   * ndivsm\n",
      "    \n",
      "whereas the homogeneous sampling is needed for all the calculations in which \n",
      "we have to compute integrals in the Brillouin zone e.g. total energy calculations, DOS, etc.\n",
      "The $k$-mesh is usually specified via:\n",
      "\n",
      "   * ngkpt\n",
      "   * nshiftk\n",
      "   * shiftk"
     ]
    },
    {
     "cell_type": "heading",
     "metadata": {},
     "level": 3,
     "source": [
      "Explicit $k$-mesh"
     ]
    },
    {
     "cell_type": "code",
     "execution_count": null,
     "metadata": {},
     "outputs": [
      {
       "output_type": "pyout",
       "prompt_number": 14,
       "text": [
        "{'kptopt': 1,\n",
        " 'ngkpt': (1, 2, 3),\n",
        " 'nshiftk': 2,\n",
        " 'shiftk': array([[ 0. ,  0. ,  0. ],\n",
        "        [ 0.5,  0.5,  0.5]])}"
       ],
       "metadata": {}
      }
     ],
     "input": [
      "inp = AbinitInput(structure=abidata.cif_file(\"si.cif\"), pseudos=abidata.pseudos(\"14si.pspnc\"))\n",
      "\n",
      "# Set ngkpt, shiftk explictly  \n",
      "inp.set_kmesh(ngkpt=(1, 2, 3), shiftk=[0.0, 0.0, 0.0, 0.5, 0.5, 0.5])"
     ],
     "language": "python",
     "prompt_number": 14
    },
    {
     "cell_type": "heading",
     "metadata": {},
     "level": 3,
     "source": [
      "Automatic $k$-mesh "
     ]
    },
    {
     "cell_type": "code",
     "execution_count": null,
     "metadata": {},
     "outputs": [
      {
       "output_type": "pyout",
       "prompt_number": 15,
       "text": [
        "{'kptopt': 1,\n",
        " 'ngkpt': array([4, 4, 4]),\n",
        " 'nshiftk': 4,\n",
        " 'shiftk': array([[ 0.5,  0.5,  0.5],\n",
        "        [ 0.5,  0. ,  0. ],\n",
        "        [ 0. ,  0.5,  0. ],\n",
        "        [ 0. ,  0. ,  0.5]])}"
       ],
       "metadata": {}
      }
     ],
     "input": [
      "# Define a homogeneous k-mesh. \n",
      "# nksmall is the number of divisions to be used to sample the smallest lattice vector,\n",
      "# shiftk is automatically selected from an internal database.\n",
      "inp.set_autokmesh(nksmall=4)"
     ],
     "language": "python",
     "prompt_number": 15
    },
    {
     "cell_type": "heading",
     "metadata": {},
     "level": 3,
     "source": [
      "High-symmetry $k$-path"
     ]
    },
    {
     "cell_type": "code",
     "execution_count": null,
     "metadata": {},
     "outputs": [
      {
       "output_type": "pyout",
       "prompt_number": 16,
       "text": [
        "{'iscf': -2, 'kptbounds': array([[ 0.   ,  0.   ,  0.   ],\n",
        "        [ 0.5  ,  0.   ,  0.5  ],\n",
        "        [ 0.5  ,  0.25 ,  0.75 ],\n",
        "        [ 0.375,  0.375,  0.75 ],\n",
        "        [ 0.   ,  0.   ,  0.   ],\n",
        "        [ 0.5  ,  0.5  ,  0.5  ],\n",
        "        [ 0.625,  0.25 ,  0.625],\n",
        "        [ 0.5  ,  0.25 ,  0.75 ],\n",
        "        [ 0.5  ,  0.5  ,  0.5  ],\n",
        "        [ 0.375,  0.375,  0.75 ],\n",
        "        [ 0.625,  0.25 ,  0.625],\n",
        "        [ 0.5  ,  0.   ,  0.5  ]]), 'kptopt': -11, 'ndivsm': 10}"
       ],
       "metadata": {}
      }
     ],
     "input": [
      "# Generate a high-symmetry k-path (taken from an internal database)\n",
      "# 2 points are used to sample the smallest segment, \n",
      "# the other segments are sampled so that proportions are preserved.\n",
      "inp.set_kpath(ndivsm=10)"
     ],
     "language": "python",
     "prompt_number": 16
    },
    {
     "cell_type": "heading",
     "metadata": {},
     "level": 1,
     "source": [
      "Utilities"
     ]
    },
    {
     "cell_type": "heading",
     "metadata": {},
     "level": 3,
     "source": [
      "Once the structure has been defined, one can compute the number of valence electrons with:"
     ]
    },
    {
     "cell_type": "code",
     "execution_count": null,
     "metadata": {},
     "outputs": [
      {
       "output_type": "stream",
       "stream": "stdout",
       "text": [
        "The number of valence electrons is:  8.0\n"
       ]
      }
     ],
     "input": [
      "print(\"The number of valence electrons is: \", inp.num_valence_electrons)"
     ],
     "language": "python",
     "prompt_number": 17
    },
    {
     "cell_type": "heading",
     "metadata": {},
     "level": 3,
     "source": [
      "Generating inputs for convergence studied"
     ]
    },
    {
     "cell_type": "code",
     "execution_count": null,
     "metadata": {},
     "outputs": [
      {
       "output_type": "stream",
       "stream": "stdout",
       "text": [
        "[2, 4]\n"
       ]
      }
     ],
     "input": [
      "# When using a non-integer step, such as 0.1, the results will often not\n",
      "# be consistent.  It is better to use ``linspace`` for these cases.\n",
      "# See also numpy.arange and numpy.linspace\n",
      "ecut_inps = inp.arange(\"ecut\", start=2, stop=5, step=2)\n",
      "\n",
      "print([i[\"ecut\"] for i in ecut_inps])"
     ],
     "language": "python",
     "prompt_number": 18
    },
    {
     "cell_type": "code",
     "execution_count": null,
     "metadata": {},
     "outputs": [
      {
       "output_type": "stream",
       "stream": "stdout",
       "text": [
        "[0.001, 0.002, 0.0030000000000000001]\n"
       ]
      }
     ],
     "input": [
      "tsmear_inps = inp.linspace(\"tsmear\", start=0.001, stop=0.003, num=3)\n",
      "print([i[\"tsmear\"] for i in tsmear_inps])"
     ],
     "language": "python",
     "prompt_number": 19
    },
    {
     "cell_type": "heading",
     "metadata": {},
     "level": 1,
     "source": [
      "Invoking Abinit with AbinitInput"
     ]
    },
    {
     "cell_type": "markdown",
     "metadata": {},
     "source": [
      "Once you have an `AbinitInput` you can call Abinit to get useful information \n",
      "or simply to validate the input file before running the real calculation.\n",
      "All the method that invoke Abinit starts with `abi` e.g. `abiget` or `abivalidate`."
     ]
    },
    {
     "cell_type": "code",
     "execution_count": null,
     "metadata": {},
     "outputs": [
      {
       "output_type": "stream",
       "stream": "stdout",
       "text": [
        "  ABINIT \n",
        "  \n",
        "  Give name for formatted input file: \n",
        "/var/folders/-C/-Cuqaw3eGbOD0HPpGmwlOk+++TI/-Tmp-/tmpt1cZZm/run.abi\n",
        "  Give name for formatted output file:\n",
        "/var/folders/-C/-Cuqaw3eGbOD0HPpGmwlOk+++TI/-Tmp-/tmpt1cZZm/run.abo\n",
        "  Give root name for generic input files:\n",
        "/var/folders/-C/-Cuqaw3eGbOD0HPpGmwlOk+++TI/-Tmp-/tmpt1cZZm/indata/in\n",
        "  Give root name for generic output files:\n",
        "/var/folders/-C/-Cuqaw3eGbOD0HPpGmwlOk+++TI/-Tmp-/tmpt1cZZm/outdata/out\n",
        "  Give root name for generic temporary files:\n",
        "/var/folders/-C/-Cuqaw3eGbOD0HPpGmwlOk+++TI/-Tmp-/tmpt1cZZm/tmpdata/tmp\n",
        "\n",
        ".Version 7.11.6 of ABINIT \n",
        ".(MPI version, prepared for a x86_64_darwin10.8.0_gnu4.7 computer) \n",
        "\n",
        ".Copyright (C) 1998-2015 ABINIT group . \n",
        " ABINIT comes with ABSOLUTELY NO WARRANTY.\n",
        " It is free software, and you are welcome to redistribute it\n",
        " under certain conditions (GNU General Public License,\n",
        " see ~abinit/COPYING or http://www.gnu.org/copyleft/gpl.txt).\n",
        "\n",
        " ABINIT is a project of the Universite Catholique de Louvain,\n",
        " Corning Inc. and other collaborators, see ~abinit/doc/developers/contributors.txt .\n",
        " Please read ~abinit/doc/users/acknowledgments.html for suggested\n",
        " acknowledgments of the ABINIT effort.\n",
        " For more information, see http://www.abinit.org .\n",
        "\n",
        ".Starting date : Sat 16 May 2015.\n",
        "- ( at 14h06 )\n",
        "  \n",
        "\n",
        " ++++++++++++++++++++++++++++++++++++++++++++++++++++++++++++++++++++++++++++++\n",
        "\n",
        " === Build Information === \n",
        "  Version       : 7.11.6\n",
        "  Build target  : x86_64_darwin10.8.0_gnu4.7\n",
        "  Build date    : 20150408\n",
        "\n",
        " === Compiler Suite === \n",
        "  C compiler       : gnu4.7\n",
        "  C++ compiler     : gnu4.7\n",
        "  Fortran compiler : gnu4.7\n",
        "  CFLAGS           :  -g -O2 -mtune=native -march=native\n",
        "  CXXFLAGS         :  -g -O2 -mtune=native -march=native\n",
        "  FCFLAGS          :  -g -ffree-line-length-none\n",
        "  FC_LDFLAGS       : \n",
        "\n",
        " === Optimizations === \n",
        "  Debug level        : basic\n",
        "  Optimization level : standard\n",
        "  Architecture       : unknown_unknown\n",
        "\n",
        " === Multicore === \n",
        "  Parallel build : yes\n",
        "  Parallel I/O   : yes\n",
        "  openMP support : no\n",
        "  GPU support    : no\n",
        "\n",
        " === Connectors / Fallbacks === \n",
        "  Connectors on : yes\n",
        "  Fallbacks on  : yes\n",
        "  DFT flavor    : libxc-fallback\n",
        "  FFT flavor    : fftw3\n",
        "  LINALG flavor : netlib-fallback\n",
        "  MATH flavor   : none\n",
        "  TIMER flavor  : abinit\n",
        "  TRIO flavor   : netcdf-fallback+etsf_io-fallback\n",
        "\n",
        " === Experimental features === \n",
        "  Bindings            : @enable_bindings@\n",
        "  Exports             : no\n",
        "  GW double-precision : yes\n",
        "\n",
        " === Bazaar branch information === \n",
        "  Branch ID : gmatteo@gmac-20150408093930-zrtb5t8o9ybpc6gl\n",
        "  Revision  : 980\n",
        "  Committed : 0\n",
        "\n",
        " ++++++++++++++++++++++++++++++++++++++++++++++++++++++++++++++++++++++++++++++\n",
        "\n",
        "\n",
        " ++++++++++++++++++++++++++++++++++++++++++++++++++++++++++++++++++++++++++++++\n",
        " Default optimizations:\n",
        "   -O2 -mtune=native -march=native\n",
        "\n",
        "\n",
        " ++++++++++++++++++++++++++++++++++++++++++++++++++++++++++++++++++++++++++++++\n",
        "\n",
        "\n",
        " ++++++++++++++++++++++++++++++++++++++++++++++++++++++++++++++++++++++++++++++\n",
        " CPP options activated during the build:\n",
        "\n",
        "                    CC_GNU                   CXX_GNU           HAVE_BZR_BRANCH\n",
        " \n",
        "                 HAVE_CLIB            HAVE_DFT_LIBXC HAVE_FC_ALLOCATABLE_DT...\n",
        " \n",
        "             HAVE_FC_ASYNC  HAVE_FC_COMMAND_ARGUMENT      HAVE_FC_COMMAND_LINE\n",
        " \n",
        "        HAVE_FC_CONTIGUOUS           HAVE_FC_CPUTIME              HAVE_FC_EXIT\n",
        " \n",
        "             HAVE_FC_FLUSH             HAVE_FC_GAMMA            HAVE_FC_GETENV\n",
        " \n",
        "          HAVE_FC_INT_QUAD             HAVE_FC_IOMSG     HAVE_FC_ISO_C_BINDING\n",
        " \n",
        "        HAVE_FC_LONG_LINES        HAVE_FC_MOVE_ALLOC           HAVE_FC_PRIVATE\n",
        " \n",
        "         HAVE_FC_PROTECTED         HAVE_FC_STREAM_IO            HAVE_FC_SYSTEM\n",
        " \n",
        "                  HAVE_FFT            HAVE_FFT_FFTW3              HAVE_FFT_MPI\n",
        " \n",
        "           HAVE_FFT_SERIAL               HAVE_GW_DPC        HAVE_LIBPAW_ABINIT\n",
        " \n",
        "     HAVE_LINALG_ZDOTC_B*G     HAVE_LINALG_ZDOTU_B*G                  HAVE_MPI\n",
        " \n",
        "                 HAVE_MPI2       HAVE_MPI_IALLREDUCE        HAVE_MPI_IALLTOALL\n",
        " \n",
        "       HAVE_MPI_IALLTOALLV               HAVE_MPI_IO HAVE_MPI_TYPE_CREATE_S...\n",
        " \n",
        "                HAVE_NUMPY                HAVE_TIMER         HAVE_TIMER_ABINIT\n",
        " \n",
        "            HAVE_TIMER_MPI         HAVE_TIMER_SERIAL         HAVE_TRIO_ETSF_IO\n",
        " \n",
        "          HAVE_TRIO_NETCDF              USE_MACROAVE                            \n",
        " ++++++++++++++++++++++++++++++++++++++++++++++++++++++++++++++++++++++++++++++\n",
        "\n",
        "- input  file    -> /var/folders/-C/-Cuqaw3eGbOD0HPpGmwlOk+++TI/-Tmp-/tmpt1cZZm/run.abi\n",
        "- output file    -> /var/folders/-C/-Cuqaw3eGbOD0HPpGmwlOk+++TI/-Tmp-/tmpt1cZZm/run.abo\n",
        "- root for input  files -> /var/folders/-C/-Cuqaw3eGbOD0HPpGmwlOk+++TI/-Tmp-/tmpt1cZZm/indata/in\n",
        "- root for output files -> /var/folders/-C/-Cuqaw3eGbOD0HPpGmwlOk+++TI/-Tmp-/tmpt1cZZm/outdata/out\n",
        "\n",
        "-instrng :    46 lines of input have been read from file /var/folders/-C/-Cuqaw3eGbOD0HPpGmwlOk+++TI/-Tmp-/tmpt1cZZm/run.abi\n",
        "\n",
        "\n",
        " iofn2 : Please give name of formatted atomic psp file\n",
        " iofn2 : for atom type   1 , psp file is /Users/gmatteo/Coding/git_branches/abipy/abipy/data/pseudos/14si.pspnc\n",
        "  read the values zionpsp=  4.0 , pspcod=   1 , lmax=   2\n",
        "nproj =      1     1     0     0\n",
        "nprojso =      0     0     0\n",
        "\n",
        " inpspheads: deduce mpsang  =   3, n1xccc  =2501.\n",
        "\n",
        " invars1m : enter jdtset=0\n",
        " invars1 : treat image number     1\n",
        "\n",
        " symlatt : the Bravais lattice is cF (face-centered cubic)\n",
        "  xred   is defined in input file\n",
        " ingeo : takes atomic coordinates from input array xred\n",
        "\n",
        " symlatt : the Bravais lattice is cF (face-centered cubic)\n",
        "\n",
        " symlatt : the Bravais lattice is cF (face-centered cubic)\n",
        " symspgr : spgroup= 227  Fd -3 m   (=Oh^7)\n",
        "       Simple Lattice Grid\n",
        " invars2: take the default value of fband=  1.25000000E-01\n",
        "       Simple Lattice Grid\n",
        "  dtset%nelect=   8.0000000000000000     \n",
        " chkneu : initialized the occupation numbers for occopt=    1\n",
        "    spin-unpolarized case :\n",
        "  2.00  2.00  2.00  2.00  0.00\n",
        "mpi_setup: mkmem  undefined in the input file.Use default mkmem  = nkpt\n",
        " mpi_setup: With nkpt_me=10 and mkmem  = 10, ground state wf handled in core.\n",
        "mpi_setup: mkqmem undefined in the input file.Use default mkqmem = nkpt\n",
        " mpi_setup: With nkpt_me=10 and mkqmem = 10, ground state wf handled in core.\n",
        "mpi_setup: mk1mem undefined in the input file.Use default mk1mem = nkpt\n",
        " mpi_setup: With nkpt_me=10 and mk1mem = 10, ground state wf handled in core.\n",
        " For input ecut= -2.000000E+00 best grid ngfft=       2       2       2\n",
        "       max ecut=  1.386183E-01\n",
        "\n",
        " ==== FFT mesh ====\n",
        "  FFT mesh divisions ........................     2    2    2\n",
        "  Augmented FFT divisions ...................     3    3    2\n",
        "  FFT algorithm .............................   312\n",
        "  FFT cache size ............................    16\n",
        " getmpw: optimal value of mpw=       0\n",
        "\n",
        " Symmetries : space group Fd -3 m (#227); Bravais cF (face-center cubic)\n",
        "\n",
        " getdim_nloc : deduce lmnmax  =   4, lnmax  =   2,\n",
        "                      lmnmaxso=   4, lnmaxso=   2.\n",
        "memory : analysis of memory needs\n",
        "================================================================================\n",
        " Values of the parameters that define the memory need of the present run\n",
        "   intxc =         0  ionmov =         0    iscf =         7 xclevel =         1\n",
        "  lmnmax =         2   lnmax =         2   mband =         5  mffmem =         1\n",
        "P  mgfft =         2   mkmem =        10 mpssoang=         3     mpw =         0\n",
        "  mqgrid =      3001   natom =         2    nfft =         8    nkpt =        10\n",
        "  nloalg =         4  nspden =         1 nspinor =         1  nsppol =         1\n",
        "    nsym =        48  n1xccc =      2501  ntypat =         1  occopt =         1\n",
        "================================================================================\n",
        "P This job should need less than                       0.610 Mbytes of memory.\n",
        "  Rough estimation (10% accuracy) of disk space for files :\n",
        "_ WF disk file :      0.002 Mbytes ; DEN or POT disk file :      0.002 Mbytes.\n",
        "================================================================================\n",
        "\n",
        " Biggest array : f_fftgr(disk), with      0.0030 MBytes.\n",
        " memana : allocated an array of      0.003 Mbytes, for testing purposes.\n",
        " memana : allocated       0.610 Mbytes, for testing purposes. \n",
        " The job will continue.\n",
        "--------------------------------------------------------------------------------\n",
        "------------- Echo of variables that govern the present computation ------------\n",
        "--------------------------------------------------------------------------------\n",
        "-\n",
        "- outvars: echo of selected default values                                      \n",
        "-   accesswff0 =  0 , fftalg0 =312 , wfoptalg0 =  0\n",
        "-\n",
        "- outvars: echo of global parameters not present in the input file              \n",
        "-  max_nthreads =    0\n",
        "-\n",
        " -outvars: echo values of preprocessed input variables --------\n",
        " \n",
        " These variables are accessible in NetCDF format (/var/folders/-C/-Cuqaw3eGbOD0HPpGmwlOk+++TI/-Tmp-/tmpt1cZZm/outdata/out_OUT.nc)\n",
        "\n",
        "            acell      1.0000000000E+00  1.0000000000E+00  1.0000000000E+00 Bohr\n",
        "              amu      2.80855000E+01\n",
        "             ecut     -2.00000000E+00 Hartree\n",
        "-          fftalg         312\n",
        "              kpt     -1.25000000E-01 -2.50000000E-01  0.00000000E+00\n",
        "                      -1.25000000E-01  5.00000000E-01  0.00000000E+00\n",
        "                      -2.50000000E-01 -3.75000000E-01  0.00000000E+00\n",
        "                      -1.25000000E-01 -3.75000000E-01  1.25000000E-01\n",
        "                      -1.25000000E-01  2.50000000E-01  0.00000000E+00\n",
        "                      -2.50000000E-01  3.75000000E-01  0.00000000E+00\n",
        "                      -3.75000000E-01  5.00000000E-01  0.00000000E+00\n",
        "                      -2.50000000E-01  5.00000000E-01  1.25000000E-01\n",
        "                      -1.25000000E-01  0.00000000E+00  0.00000000E+00\n",
        "                      -3.75000000E-01  0.00000000E+00  0.00000000E+00\n",
        "         kptrlatt        4   -4    4     -4    4    4     -4   -4    4\n",
        "          kptrlen      4.13375925E+01\n",
        "P           mkmem          10\n",
        "            natom           2\n",
        "            nband           5\n",
        "            ngfft           2       2       2\n",
        "             nkpt          10\n",
        "             nsym          48\n",
        "           ntypat           1\n",
        "              occ      2.000000  2.000000  2.000000  2.000000  0.000000\n",
        "            rprim     -6.3285005555E+00  0.0000000000E+00 -3.6537614993E+00\n",
        "                      -6.3285005555E+00  0.0000000000E+00  3.6537614993E+00\n",
        "                      -4.2190003704E+00  5.9665675434E+00  0.0000000000E+00\n",
        "           shiftk      5.00000000E-01  5.00000000E-01  5.00000000E-01\n",
        "          spgroup         227\n",
        "           symrel      1  0  0   0  1  0   0  0  1      -1  0  0   0 -1  0   0  0 -1\n",
        "                       0 -1  1   0 -1  0   1 -1  0       0  1 -1   0  1  0  -1  1  0\n",
        "                      -1  0  0  -1  0  1  -1  1  0       1  0  0   1  0 -1   1 -1  0\n",
        "                       0  1 -1   1  0 -1   0  0 -1       0 -1  1  -1  0  1   0  0  1\n",
        "                      -1  0  0  -1  1  0  -1  0  1       1  0  0   1 -1  0   1  0 -1\n",
        "                       0 -1  1   1 -1  0   0 -1  0       0  1 -1  -1  1  0   0  1  0\n",
        "                       1  0  0   0  0  1   0  1  0      -1  0  0   0  0 -1   0 -1  0\n",
        "                       0  1 -1   0  0 -1   1  0 -1       0 -1  1   0  0  1  -1  0  1\n",
        "                      -1  0  1  -1  1  0  -1  0  0       1  0 -1   1 -1  0   1  0  0\n",
        "                       0 -1  0   1 -1  0   0 -1  1       0  1  0  -1  1  0   0  1 -1\n",
        "                       1  0 -1   0  0 -1   0  1 -1      -1  0  1   0  0  1   0 -1  1\n",
        "                       0  1  0   0  0  1   1  0  0       0 -1  0   0  0 -1  -1  0  0\n",
        "                       1  0 -1   0  1 -1   0  0 -1      -1  0  1   0 -1  1   0  0  1\n",
        "                       0 -1  0   0 -1  1   1 -1  0       0  1  0   0  1 -1  -1  1  0\n",
        "                      -1  0  1  -1  0  0  -1  1  0       1  0 -1   1  0  0   1 -1  0\n",
        "                       0  1  0   1  0  0   0  0  1       0 -1  0  -1  0  0   0  0 -1\n",
        "                       0  0 -1   0  1 -1   1  0 -1       0  0  1   0 -1  1  -1  0  1\n",
        "                       1 -1  0   0 -1  1   0 -1  0      -1  1  0   0  1 -1   0  1  0\n",
        "                       0  0  1   1  0  0   0  1  0       0  0 -1  -1  0  0   0 -1  0\n",
        "                      -1  1  0  -1  0  0  -1  0  1       1 -1  0   1  0  0   1  0 -1\n",
        "                       0  0  1   0  1  0   1  0  0       0  0 -1   0 -1  0  -1  0  0\n",
        "                       1 -1  0   0 -1  0   0 -1  1      -1  1  0   0  1  0   0  1 -1\n",
        "                       0  0 -1   1  0 -1   0  1 -1       0  0  1  -1  0  1   0 -1  1\n",
        "                      -1  1  0  -1  0  1  -1  0  0       1 -1  0   1  0 -1   1  0  0\n",
        "            tnons      0.0000000  0.0000000  0.0000000     0.2500000  0.2500000  0.2500000\n",
        "                       0.0000000  0.0000000  0.0000000     0.2500000  0.2500000  0.2500000\n",
        "                       0.0000000  0.0000000  0.0000000     0.2500000  0.2500000  0.2500000\n",
        "                       0.0000000  0.0000000  0.0000000     0.2500000  0.2500000  0.2500000\n",
        "                       0.0000000  0.0000000  0.0000000     0.2500000  0.2500000  0.2500000\n",
        "                       0.0000000  0.0000000  0.0000000     0.2500000  0.2500000  0.2500000\n",
        "                       0.0000000  0.0000000  0.0000000     0.2500000  0.2500000  0.2500000\n",
        "                       0.0000000  0.0000000  0.0000000     0.2500000  0.2500000  0.2500000\n",
        "                       0.0000000  0.0000000  0.0000000     0.2500000  0.2500000  0.2500000\n",
        "                       0.0000000  0.0000000  0.0000000     0.2500000  0.2500000  0.2500000\n",
        "                       0.0000000  0.0000000  0.0000000     0.2500000  0.2500000  0.2500000\n",
        "                       0.0000000  0.0000000  0.0000000     0.2500000  0.2500000  0.2500000\n",
        "                       0.0000000  0.0000000  0.0000000     0.2500000  0.2500000  0.2500000\n",
        "                       0.0000000  0.0000000  0.0000000     0.2500000  0.2500000  0.2500000\n",
        "                       0.0000000  0.0000000  0.0000000     0.2500000  0.2500000  0.2500000\n",
        "                       0.0000000  0.0000000  0.0000000     0.2500000  0.2500000  0.2500000\n",
        "                       0.0000000  0.0000000  0.0000000     0.2500000  0.2500000  0.2500000\n",
        "                       0.0000000  0.0000000  0.0000000     0.2500000  0.2500000  0.2500000\n",
        "                       0.0000000  0.0000000  0.0000000     0.2500000  0.2500000  0.2500000\n",
        "                       0.0000000  0.0000000  0.0000000     0.2500000  0.2500000  0.2500000\n",
        "                       0.0000000  0.0000000  0.0000000     0.2500000  0.2500000  0.2500000\n",
        "                       0.0000000  0.0000000  0.0000000     0.2500000  0.2500000  0.2500000\n",
        "                       0.0000000  0.0000000  0.0000000     0.2500000  0.2500000  0.2500000\n",
        "                       0.0000000  0.0000000  0.0000000     0.2500000  0.2500000  0.2500000\n",
        "            typat      1  1\n",
        "              wtk        0.09375    0.09375    0.09375    0.18750    0.09375    0.09375\n",
        "                         0.09375    0.18750    0.03125    0.03125\n",
        "           xangst     -0.0000000000E+00  0.0000000000E+00  0.0000000000E+00\n",
        "                      -2.2325988390E+00  7.8934288937E-01  0.0000000000E+00\n",
        "            xcart     -0.0000000000E+00  0.0000000000E+00  0.0000000000E+00\n",
        "                      -4.2190003703E+00  1.4916418858E+00  0.0000000000E+00\n",
        "             xred      0.0000000000E+00  0.0000000000E+00  0.0000000000E+00\n",
        "                       2.5000000000E-01  2.5000000000E-01  2.5000000000E-01\n",
        "            znucl       14.00000\n",
        "\n",
        "================================================================================\n",
        "\n",
        " chkinp: Checking input parameters for consistency.\n",
        "\n",
        "--- !WARNING\n",
        "src_file: chkdpr.F90\n",
        "src_line: 153\n",
        "message: |\n",
        "    \n",
        "     chkdpr: ERROR -\n",
        "      Context : the value of the variable usewvl is   0.\n",
        "      The value of the input variable ecut is -2.000000000000E+00,\n",
        "      while it must be larger or equal to  1.000000000000E-08.\n",
        "      Action : you should change the input variables ecut or usewvl.\n",
        "...\n",
        "\n",
        " DATA TYPE INFORMATION: \n",
        " REAL:      Data type name: REAL(DP) \n",
        "            Kind value:      8\n",
        "            Precision:      15\n",
        "            Smallest nonnegligible quantity relative to 1:  0.22204460E-15\n",
        "            Smallest positive number:                       0.22250739-307\n",
        "            Largest representable number:                   0.17976931+309\n",
        " INTEGER:   Data type name: INTEGER(default) \n",
        "            Kind value: 4\n",
        "            Bit size:   32\n",
        "            Largest representable number: 2147483647\n",
        " LOGICAL:   Data type name: LOGICAL \n",
        "            Kind value: 4\n",
        " CHARACTER: Data type name: CHARACTER             Kind value: 1\n",
        "  ==== Using MPI-2 specifications ==== \n",
        "  MPI-IO support is ON\n",
        "  xmpi_tag_ub ................    268435455\n",
        "  xmpi_bsize_ch ..............            1\n",
        "  xmpi_bsize_int .............            4\n",
        "  xmpi_bsize_sp ..............            4\n",
        "  xmpi_bsize_dp ..............            8\n",
        "  xmpi_bsize_spc .............            8\n",
        "  xmpi_bsize_dpc .............           16\n",
        "  xmpio_bsize_frm ............            4\n",
        "  xmpi_address_kind ..........            8\n",
        "  xmpi_offset_kind ...........            8\n",
        "  MPI_WTICK ..................    1.8000000000000002E-008\n",
        "\n",
        " ++++++++++++++++++++++++++++++++++++++++++++++++++++++++++++++++++++++++++++++\n",
        "\n",
        " === Build Information === \n",
        "  Version       : 7.11.6\n",
        "  Build target  : x86_64_darwin10.8.0_gnu4.7\n",
        "  Build date    : 20150408\n",
        "\n",
        " === Compiler Suite === \n",
        "  C compiler       : gnu4.7\n",
        "  C++ compiler     : gnu4.7\n",
        "  Fortran compiler : gnu4.7\n",
        "  CFLAGS           :  -g -O2 -mtune=native -march=native\n",
        "  CXXFLAGS         :  -g -O2 -mtune=native -march=native\n",
        "  FCFLAGS          :  -g -ffree-line-length-none\n",
        "  FC_LDFLAGS       : \n",
        "\n",
        " === Optimizations === \n",
        "  Debug level        : basic\n",
        "  Optimization level : standard\n",
        "  Architecture       : unknown_unknown\n",
        "\n",
        " === Multicore === \n",
        "  Parallel build : yes\n",
        "  Parallel I/O   : yes\n",
        "  openMP support : no\n",
        "  GPU support    : no\n",
        "\n",
        " === Connectors / Fallbacks === \n",
        "  Connectors on : yes\n",
        "  Fallbacks on  : yes\n",
        "  DFT flavor    : libxc-fallback\n",
        "  FFT flavor    : fftw3\n",
        "  LINALG flavor : netlib-fallback\n",
        "  MATH flavor   : none\n",
        "  TIMER flavor  : abinit\n",
        "  TRIO flavor   : netcdf-fallback+etsf_io-fallback\n",
        "\n",
        " === Experimental features === \n",
        "  Bindings            : @enable_bindings@\n",
        "  Exports             : no\n",
        "  GW double-precision : yes\n",
        "\n",
        " === Bazaar branch information === \n",
        "  Branch ID : gmatteo@gmac-20150408093930-zrtb5t8o9ybpc6gl\n",
        "  Revision  : 980\n",
        "  Committed : 0\n",
        "\n",
        " ++++++++++++++++++++++++++++++++++++++++++++++++++++++++++++++++++++++++++++++\n",
        "\n",
        "\n",
        "--- !ERROR\n",
        "src_file: chkinp.F90\n",
        "src_line: 3152\n",
        "message: |\n",
        "    Checking consistency of input data against itself gave 1 inconsistencies.\n",
        "...\n",
        "\n",
        "\n",
        " leave_new : decision taken to exit ...\n",
        "\n"
       ]
      }
     ],
     "input": [
      "inp = AbinitInput(structure=abidata.cif_file(\"si.cif\"), pseudos=abidata.pseudos(\"14si.pspnc\"))\n",
      "\n",
      "inp.set_vars(ecut=-2)\n",
      "inp.set_autokmesh(nksmall=4)\n",
      "\n",
      "v = inp.abivalidate() \n",
      "if v.retcode != 0: \n",
      "    # If there's a mistake in the input, one can acces the log file of the run with:\n",
      "    print(v.log_file.read())"
     ],
     "language": "python",
     "prompt_number": 20
    },
    {
     "cell_type": "code",
     "execution_count": null,
     "metadata": {},
     "outputs": [
      {
       "output_type": "stream",
       "stream": "stdout",
       "text": [
        "All ok\n"
       ]
      }
     ],
     "input": [
      "# Fix the problem with the negative ecut and rerun validate!\n",
      "inp[\"ecut\"] = 2\n",
      "v = inp.abivalidate()\n",
      "if (v.retcode == 0): print(\"All ok\")"
     ],
     "language": "python",
     "prompt_number": 21
    },
    {
     "cell_type": "markdown",
     "metadata": {},
     "source": [
      "At this point, we have a valid input file and we can get the k-points in the irreducible zone with:"
     ]
    },
    {
     "cell_type": "code",
     "execution_count": null,
     "metadata": {},
     "outputs": [
      {
       "output_type": "stream",
       "stream": "stdout",
       "text": [
        "number of k-points: 10\n",
        "k-points: [[-0.125 -0.25   0.   ]\n",
        " [-0.125  0.5    0.   ]\n",
        " [-0.25  -0.375  0.   ]\n",
        " [-0.125 -0.375  0.125]\n",
        " [-0.125  0.25   0.   ]\n",
        " [-0.25   0.375  0.   ]\n",
        " [-0.375  0.5    0.   ]\n",
        " [-0.25   0.5    0.125]\n",
        " [-0.125  0.     0.   ]\n",
        " [-0.375  0.     0.   ]]\n",
        "weights: [ 0.09375  0.09375  0.09375  0.1875   0.09375  0.09375  0.09375  0.1875\n",
        "  0.03125  0.03125]\n",
        "weights are normalized to: 1.0\n"
       ]
      }
     ],
     "input": [
      "ibz = inp.abiget_ibz()\n",
      "print(\"number of k-points:\", len(ibz.points))\n",
      "print(\"k-points:\", ibz.points)\n",
      "print(\"weights:\", ibz.weights)\n",
      "print(\"weights are normalized to:\", ibz.weights.sum())"
     ],
     "language": "python",
     "prompt_number": 22
    },
    {
     "cell_type": "code",
     "execution_count": null,
     "metadata": {},
     "outputs": [],
     "input": [
      "# To get the list of possible parallel configurations for this input up to 5 max_ncpus\n",
      "inp[\"paral_kgb\"] = 1\n",
      "pconfs = inp.abiget_autoparal_pconfs(max_ncpus=5)"
     ],
     "language": "python",
     "prompt_number": 23
    },
    {
     "cell_type": "code",
     "execution_count": null,
     "metadata": {},
     "outputs": [
      {
       "output_type": "stream",
       "stream": "stdout",
       "text": [
        "best efficiency:\n",
        " {'efficiency': 0.975,\n",
        " u'mem_per_cpu': 0.0,\n",
        " 'mpi_ncpus': 5,\n",
        " u'omp_ncpus': 1,\n",
        " 'tot_ncpus': 5,\n",
        " 'vars': {'bandpp': 1,\n",
        "          'npband': 1,\n",
        "          'npfft': 1,\n",
        "          'npimage': 1,\n",
        "          'npkpt': 5,\n",
        "          'npspinor': 1}}\n",
        "\n",
        "best speedup:\n",
        " {'efficiency': 0.975,\n",
        " u'mem_per_cpu': 0.0,\n",
        " 'mpi_ncpus': 5,\n",
        " u'omp_ncpus': 1,\n",
        " 'tot_ncpus': 5,\n",
        " 'vars': {'bandpp': 1,\n",
        "          'npband': 1,\n",
        "          'npfft': 1,\n",
        "          'npimage': 1,\n",
        "          'npkpt': 5,\n",
        "          'npspinor': 1}}\n",
        "\n"
       ]
      }
     ],
     "input": [
      "print(\"best efficiency:\\n\", pconfs.sort_by_efficiency()[0])\n",
      "print(\"best speedup:\\n\", pconfs.sort_by_speedup()[0])"
     ],
     "language": "python",
     "prompt_number": 24
    },
    {
     "cell_type": "code",
     "execution_count": null,
     "metadata": {},
     "outputs": [
      {
       "output_type": "pyout",
       "prompt_number": 25,
       "text": [
        "[{'idir': 1, 'ipert': 1, 'qpt': [0.0, 0.0, 0.0]}]"
       ],
       "metadata": {}
      }
     ],
     "input": [
      "# To get the list of irreducible phonon perturbations at Gamma (Abinit notation)\n",
      "inp.abiget_irred_phperts(qpt=(0, 0, 0))"
     ],
     "language": "python",
     "prompt_number": 25
    },
    {
     "cell_type": "heading",
     "metadata": {},
     "level": 1,
     "source": [
      "Multiple datasets"
     ]
    },
    {
     "cell_type": "markdown",
     "metadata": {},
     "source": [
      "Multiple datasets are handy when you have to generate several input files sharing several common\n",
      "variables e.g. the crystalline structure, the smearing value etc...\n",
      "In this case, one can use the `MultiDataset` object that is essentially \n",
      "a list of `AbinitInput` objects."
     ]
    },
    {
     "cell_type": "code",
     "execution_count": null,
     "metadata": {},
     "outputs": [
      {
       "output_type": "stream",
       "stream": "stdout",
       "text": [
        "4\n",
        "4\n"
       ]
      }
     ],
     "input": [
      "# A MultiDataset object with two datasets (a.k.a. AbinitInput) \n",
      "multi = abilab.MultiDataset(structure=abidata.cif_file(\"si.cif\"),\n",
      "                            pseudos=\"14si.pspnc\", pseudo_dir=abidata.pseudo_dir, ndtset=2)\n",
      "\n",
      "# A MultiDataset is essentially a list if AbinitInput objects \n",
      "# with handy methods to perform global modifications.\n",
      "# i.e. changes that will affect all the inputs in the MultiDataset\n",
      "# For example:\n",
      "multi.set_vars(ecut=4)\n",
      "\n",
      "# is equivalent to\n",
      "#\n",
      "#   for inp in multi: inp.set_vars(ecut=4)\n",
      "#\n",
      "# and indeed:\n",
      "\n",
      "for inp in multi: \n",
      "    print(inp[\"ecut\"])"
     ],
     "language": "python",
     "prompt_number": 26
    },
    {
     "cell_type": "code",
     "execution_count": null,
     "metadata": {},
     "outputs": [
      {
       "output_type": "stream",
       "stream": "stdout",
       "text": [
        "ndtset 2\n",
        "\n",
        "#################\n",
        "### DATASET 1 ###\n",
        "#################\n",
        "############################################################################################\n",
        "#                                      SECTION: varbas                                      \n",
        "############################################################################################\n",
        " ecut1 4\n",
        " ngkpt1 2 2 2\n",
        "############################################################################################\n",
        "#                                       SECTION: vargs                                      \n",
        "############################################################################################\n",
        " tsmear1 0.004\n",
        "############################################################################################\n",
        "#                                         STRUCTURE                                         \n",
        "############################################################################################\n",
        " acell1    1.0    1.0    1.0\n",
        " xred1\n",
        "    0.0000000000    0.0000000000    0.0000000000\n",
        "    0.2500000000    0.2500000000    0.2500000000\n",
        " rprim1\n",
        "   -6.3285005555    0.0000000000   -3.6537614993\n",
        "   -6.3285005555    0.0000000000    3.6537614993\n",
        "   -4.2190003704    5.9665675434    0.0000000000\n",
        " typat1 1 1\n",
        " natom1 2\n",
        " ntypat1 1\n",
        " znucl1 14\n",
        "\n",
        "\n",
        "#################\n",
        "### DATASET 2 ###\n",
        "#################\n",
        "############################################################################################\n",
        "#                                      SECTION: varbas                                      \n",
        "############################################################################################\n",
        " ecut2 4\n",
        " ngkpt2 4 4 4\n",
        "############################################################################################\n",
        "#                                       SECTION: vargs                                      \n",
        "############################################################################################\n",
        " tsmear2 0.008\n",
        "############################################################################################\n",
        "#                                         STRUCTURE                                         \n",
        "############################################################################################\n",
        " acell2    1.0    1.0    1.0\n",
        " xred2\n",
        "    0.0000000000    0.0000000000    0.0000000000\n",
        "    0.2500000000    0.2500000000    0.2500000000\n",
        " rprim2\n",
        "   -6.3285005555    0.0000000000   -3.6537614993\n",
        "   -6.3285005555    0.0000000000    3.6537614993\n",
        "   -4.2190003704    5.9665675434    0.0000000000\n",
        " typat2 1 1\n",
        " natom2 2\n",
        " ntypat2 1\n",
        " znucl2 14\n",
        "\n",
        "\n",
        "#<JSON>\n",
        "#{\n",
        "#    \"pseudos\": [\n",
        "#        {\n",
        "#            \"l_max\": 2, \n",
        "#            \"Z_val\": 4.0, \n",
        "#            \"filepath\": \"/Users/gmatteo/Coding/git_branches/abipy/abipy/data/pseudos/14si.pspnc\", \n",
        "#            \"symbol\": \"Si\", \n",
        "#            \"Z\": 14, \n",
        "#            \"type\": \"NcAbinitPseudo\", \n",
        "#            \"basename\": \"14si.pspnc\", \n",
        "#            \"@class\": \"NcAbinitPseudo\", \n",
        "#            \"@module\": \"pymatgen.io.abinitio.pseudos\"\n",
        "#        }\n",
        "#    ]\n",
        "#}\n",
        "#</JSON>\n",
        "\n"
       ]
      }
     ],
     "input": [
      "# To change the values in a particular dataset use:\n",
      "multi[0].set_vars(ngkpt=[2,2,2], tsmear=0.004)\n",
      "multi[1].set_vars(ngkpt=[4,4,4], tsmear=0.008)\n",
      "\n",
      "print(multi)"
     ],
     "language": "python",
     "prompt_number": 27
    },
    {
     "cell_type": "markdown",
     "metadata": {},
     "source": [
      "<div class=\"alert alert\">\n",
      "In python we start to count from zero hence the first dataset has index 0.\n",
      "</div>"
     ]
    },
    {
     "cell_type": "code",
     "execution_count": null,
     "metadata": {},
     "outputs": [
      {
       "output_type": "pyout",
       "prompt_number": 28,
       "text": [
        "[Structure Summary\n",
        " Lattice\n",
        "     abc : 3.8669746200000001 3.8669746199999997 3.8669746200000001\n",
        "  angles : 59.999999999999993 59.999999999999993 59.999999999999993\n",
        "  volume : 40.888291793468902\n",
        "       A : -3.3488982567096763 0.0 -1.9334873100000005\n",
        "       B : -3.3488982567096763 0.0 1.9334873099999996\n",
        "       C : -2.2325988378064507 3.1573715557642927 0.0\n",
        " PeriodicSite: Si (0.0000, 0.0000, 0.0000) [0.0000, 0.0000, 0.0000]\n",
        " PeriodicSite: Si (-2.2326, 0.7893, 0.0000) [0.2500, 0.2500, 0.2500],\n",
        " Structure Summary\n",
        " Lattice\n",
        "     abc : 3.8669746200000001 3.8669746199999997 3.8669746200000001\n",
        "  angles : 59.999999999999993 59.999999999999993 59.999999999999993\n",
        "  volume : 40.888291793468902\n",
        "       A : -3.3488982567096763 0.0 -1.9334873100000005\n",
        "       B : -3.3488982567096763 0.0 1.9334873099999996\n",
        "       C : -2.2325988378064507 3.1573715557642927 0.0\n",
        " PeriodicSite: Si (0.0000, 0.0000, 0.0000) [0.0000, 0.0000, 0.0000]\n",
        " PeriodicSite: Si (-2.2326, 0.7893, 0.0000) [0.2500, 0.2500, 0.2500]]"
       ],
       "metadata": {}
      }
     ],
     "input": [
      "# Calling set_structure on MultiDataset will set the structure of the inputs\n",
      "multi.set_structure(abidata.cif_file(\"si.cif\"))\n",
      "\n",
      "# The structure attribute of a MultiDataset returns a list of structures \n",
      "# equivalent to [inp.structure for inp in multi]\n",
      "multi.structure"
     ],
     "language": "python",
     "prompt_number": 28
    },
    {
     "cell_type": "markdown",
     "metadata": {},
     "source": [
      "The function `split_datasets` return the list of `AbinitInput` stored in MultiDataset"
     ]
    },
    {
     "cell_type": "code",
     "execution_count": null,
     "metadata": {},
     "outputs": [
      {
       "output_type": "stream",
       "stream": "stdout",
       "text": [
        "############################################################################################\n",
        "#                                      SECTION: varbas                                      \n",
        "############################################################################################\n",
        " ecut 4\n",
        " ngkpt 2 2 2\n",
        "############################################################################################\n",
        "#                                       SECTION: vargs                                      \n",
        "############################################################################################\n",
        " tsmear 0.004\n",
        "############################################################################################\n",
        "#                                         STRUCTURE                                         \n",
        "############################################################################################\n",
        " acell    1.0    1.0    1.0\n",
        " xred\n",
        "    0.0000000000    0.0000000000    0.0000000000\n",
        "    0.2500000000    0.2500000000    0.2500000000\n",
        " rprim\n",
        "   -6.3285005555    0.0000000000   -3.6537614993\n",
        "   -6.3285005555    0.0000000000    3.6537614993\n",
        "   -4.2190003704    5.9665675434    0.0000000000\n",
        " typat 1 1\n",
        " natom 2\n",
        " ntypat 1\n",
        " znucl 14\n",
        "\n",
        "\n",
        "#<JSON>\n",
        "#{\n",
        "#    \"pseudos\": [\n",
        "#        {\n",
        "#            \"l_max\": 2, \n",
        "#            \"Z_val\": 4.0, \n",
        "#            \"filepath\": \"/Users/gmatteo/Coding/git_branches/abipy/abipy/data/pseudos/14si.pspnc\", \n",
        "#            \"symbol\": \"Si\", \n",
        "#            \"Z\": 14, \n",
        "#            \"type\": \"NcAbinitPseudo\", \n",
        "#            \"basename\": \"14si.pspnc\", \n",
        "#            \"@class\": \"NcAbinitPseudo\", \n",
        "#            \"@module\": \"pymatgen.io.abinitio.pseudos\"\n",
        "#        }\n",
        "#    ]\n",
        "#}\n",
        "#</JSON>\n"
       ]
      }
     ],
     "input": [
      "inp0, inp1 = multi.split_datasets()\n",
      "print(inp0)"
     ],
     "language": "python",
     "prompt_number": 29
    },
    {
     "cell_type": "markdown",
     "metadata": {},
     "source": [
      "<div class=\"alert alert\">\n",
      "You can use `MultiDataset` to build your input files but remember that \n",
      "`Abipy` will never support input files with more than one dataset.\n",
      "As a consequence, you should always pass an `AbinitInput` to the \n",
      "AbiPy functions that are building `Tasks`, `Works` or `Flows`.\n",
      "</div>"
     ]
    },
    {
     "cell_type": "code",
     "execution_count": null,
     "metadata": {},
     "outputs": [
      {
       "output_type": "stream",
       "stream": "stdout",
       "text": [
        "Number of datasets: 2\n"
       ]
      }
     ],
     "input": [
      "print(\"Number of datasets:\", multi.ndtset)"
     ],
     "language": "python",
     "prompt_number": 30
    },
    {
     "cell_type": "code",
     "execution_count": null,
     "metadata": {},
     "outputs": [
      {
       "output_type": "stream",
       "stream": "stdout",
       "text": [
        "Now multi has 3 datasets and the ecut in the last dataset is: 42\n"
       ]
      }
     ],
     "input": [
      "# To create and append a new dataset (initialized from dataset number 1)\n",
      "multi.addnew_from(1)\n",
      "multi[-1].set_vars(ecut=42)\n",
      "print(\"Now multi has\", multi.ndtset, \"datasets and the ecut in the last dataset is:\", \n",
      "      multi[-1][\"ecut\"])"
     ],
     "language": "python",
     "prompt_number": 31
    },
    {
     "cell_type": "heading",
     "metadata": {},
     "level": 1,
     "source": [
      "Factory functions"
     ]
    },
    {
     "cell_type": "markdown",
     "metadata": {},
     "source": [
      "TODO"
     ]
    },
    {
     "cell_type": "heading",
     "metadata": {},
     "level": 1,
     "source": [
      "Decorators"
     ]
    },
    {
     "cell_type": "markdown",
     "metadata": {},
     "source": [
      "TODO"
     ]
    }
   ]
  }
 ],
 "cells": [],
 "metadata": {
  "name": "",
  "signature": "sha256:11df26150a116d1048bb8c5bab71ded216b4957376db2fa505a482f998d08a13"
 },
 "nbformat": 3,
 "nbformat_minor": 0
}